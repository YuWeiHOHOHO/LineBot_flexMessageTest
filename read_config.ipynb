{
 "cells": [
  {
   "cell_type": "code",
   "execution_count": 1,
   "id": "1f8178d1",
   "metadata": {},
   "outputs": [],
   "source": [
    "import configparser"
   ]
  },
  {
   "cell_type": "code",
   "execution_count": 2,
   "id": "30d166f9",
   "metadata": {},
   "outputs": [
    {
     "data": {
      "text/plain": [
       "['config.ini']"
      ]
     },
     "execution_count": 2,
     "metadata": {},
     "output_type": "execute_result"
    }
   ],
   "source": [
    "config = configparser.ConfigParser()\n",
    "config.read('config.ini')"
   ]
  },
  {
   "cell_type": "code",
   "execution_count": 3,
   "id": "cc1ac0c6",
   "metadata": {},
   "outputs": [
    {
     "name": "stdout",
     "output_type": "stream",
     "text": [
      "<Section: section_a>\t: key_a\t: value_a\n",
      "<Section: section_a>\t: key_b\t: value_b\n"
     ]
    }
   ],
   "source": [
    "for i in config.sections():\n",
    "            for j in config[i]:\n",
    "                print(f'{config[i]}\\t: {j}\\t: {config.get(i, j)}')"
   ]
  },
  {
   "cell_type": "code",
   "execution_count": null,
   "id": "ee02156e",
   "metadata": {},
   "outputs": [],
   "source": []
  }
 ],
 "metadata": {
  "kernelspec": {
   "display_name": "Python 3",
   "language": "python",
   "name": "python3"
  },
  "language_info": {
   "codemirror_mode": {
    "name": "ipython",
    "version": 3
   },
   "file_extension": ".py",
   "mimetype": "text/x-python",
   "name": "python",
   "nbconvert_exporter": "python",
   "pygments_lexer": "ipython3",
   "version": "3.9.5"
  }
 },
 "nbformat": 4,
 "nbformat_minor": 5
}
